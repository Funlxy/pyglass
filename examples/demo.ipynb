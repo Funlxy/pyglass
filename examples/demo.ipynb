{
 "cells": [
  {
   "cell_type": "code",
   "execution_count": 1,
   "metadata": {},
   "outputs": [],
   "source": [
    "import glassppy as glass\n",
    "from ann_dataset import dataset_dict"
   ]
  },
  {
   "cell_type": "code",
   "execution_count": 2,
   "metadata": {},
   "outputs": [
    {
     "name": "stdout",
     "output_type": "stream",
     "text": [
      "n = 1000000, d = 128, nq = 10000, metric = L2\n",
      "dataset size = 488.28MB\n"
     ]
    }
   ],
   "source": [
    "topk = 10\n",
    "dataset = dataset_dict['sift-128-euclidean']()\n",
    "X_train = dataset.get_database()\n",
    "X_test = dataset.get_queries()\n",
    "Y = dataset.get_groundtruth(topk)\n",
    "n, d = X_train.shape\n",
    "nq, d = X_test.shape\n",
    "metric = dataset.metric\n",
    "print(f\"n = {n}, d = {d}, nq = {nq}, metric = {metric}\")\n",
    "print(f\"dataset size = {n * d * 4 / 1024 / 1024:.2f}MB\")\n"
   ]
  },
  {
   "cell_type": "code",
   "execution_count": 3,
   "metadata": {},
   "outputs": [
    {
     "name": "stdout",
     "output_type": "stream",
     "text": [
      "NNDescent iter: [1/10], recall: 0.000312\n",
      "NNDescent iter: [2/10], recall: 0.002656\n",
      "NNDescent iter: [3/10], recall: 0.023281\n",
      "NNDescent iter: [4/10], recall: 0.116719\n",
      "NNDescent iter: [5/10], recall: 0.323281\n",
      "NNDescent iter: [6/10], recall: 0.564844\n",
      "NNDescent iter: [7/10], recall: 0.741562\n",
      "NNDescent iter: [8/10], recall: 0.862813\n",
      "NNDescent iter: [9/10], recall: 0.920625\n",
      "NNDescent iter: [10/10], recall: 0.960312\n",
      "NNDescent cost: 16.76s\n",
      "NSG building progress: [10000/1000000]\n",
      "NSG building progress: [20000/1000000]\n",
      "NSG building progress: [30000/1000000]\n",
      "NSG building progress: [40000/1000000]\n",
      "NSG building progress: [50000/1000000]\n",
      "NSG building progress: [60000/1000000]\n",
      "NSG building progress: [70000/1000000]\n",
      "NSG building progress: [80000/1000000]\n",
      "NSG building progress: [90000/1000000]\n",
      "NSG building progress: [100000/1000000]\n",
      "NSG building progress: [110000/1000000]\n",
      "NSG building progress: [120000/1000000]\n",
      "NSG building progress: [130000/1000000]\n",
      "NSG building progress: [140000/1000000]\n",
      "NSG building progress: [150000/1000000]\n",
      "NSG building progress: [160000/1000000]\n",
      "NSG building progress: [170000/1000000]\n",
      "NSG building progress: [180000/1000000]\n",
      "NSG building progress: [190000/1000000]\n",
      "NSG building progress: [200000/1000000]\n",
      "NSG building progress: [210000/1000000]\n",
      "NSG building progress: [220000/1000000]\n",
      "NSG building progress: [230000/1000000]\n",
      "NSG building progress: [240000/1000000]\n",
      "NSG building progress: [250000/1000000]\n",
      "NSG building progress: [260000/1000000]\n",
      "NSG building progress: [270000/1000000]\n",
      "NSG building progress: [280000/1000000]\n",
      "NSG building progress: [290000/1000000]\n",
      "NSG building progress: [300000/1000000]\n",
      "NSG building progress: [310000/1000000]\n",
      "NSG building progress: [320000/1000000]\n",
      "NSG building progress: [330000/1000000]\n",
      "NSG building progress: [340000/1000000]\n",
      "NSG building progress: [350000/1000000]\n",
      "NSG building progress: [360000/1000000]\n",
      "NSG building progress: [370000/1000000]\n",
      "NSG building progress: [380000/1000000]\n",
      "NSG building progress: [390000/1000000]\n",
      "NSG building progress: [400000/1000000]\n",
      "NSG building progress: [410000/1000000]\n",
      "NSG building progress: [420000/1000000]\n",
      "NSG building progress: [430000/1000000]\n",
      "NSG building progress: [440000/1000000]\n",
      "NSG building progress: [450000/1000000]\n",
      "NSG building progress: [460000/1000000]\n",
      "NSG building progress: [470000/1000000]\n",
      "NSG building progress: [480000/1000000]\n",
      "NSG building progress: [490000/1000000]\n",
      "NSG building progress: [500000/1000000]\n",
      "NSG building progress: [510000/1000000]\n",
      "NSG building progress: [520000/1000000]\n",
      "NSG building progress: [530000/1000000]\n",
      "NSG building progress: [540000/1000000]\n",
      "NSG building progress: [550000/1000000]\n",
      "NSG building progress: [560000/1000000]\n",
      "NSG building progress: [570000/1000000]\n",
      "NSG building progress: [580000/1000000]\n",
      "NSG building progress: [590000/1000000]\n",
      "NSG building progress: [600000/1000000]\n",
      "NSG building progress: [610000/1000000]\n",
      "NSG building progress: [620000/1000000]\n",
      "NSG building progress: [630000/1000000]\n",
      "NSG building progress: [640000/1000000]\n",
      "NSG building progress: [650000/1000000]\n",
      "NSG building progress: [660000/1000000]\n",
      "NSG building progress: [670000/1000000]\n",
      "NSG building progress: [680000/1000000]\n",
      "NSG building progress: [690000/1000000]\n",
      "NSG building progress: [700000/1000000]\n",
      "NSG building progress: [710000/1000000]\n",
      "NSG building progress: [720000/1000000]\n",
      "NSG building progress: [730000/1000000]\n",
      "NSG building progress: [740000/1000000]\n",
      "NSG building progress: [750000/1000000]\n",
      "NSG building progress: [760000/1000000]\n",
      "NSG building progress: [770000/1000000]\n",
      "NSG building progress: [780000/1000000]\n",
      "NSG building progress: [790000/1000000]\n",
      "NSG building progress: [800000/1000000]\n",
      "NSG building progress: [810000/1000000]\n",
      "NSG building progress: [820000/1000000]\n",
      "NSG building progress: [830000/1000000]\n",
      "NSG building progress: [840000/1000000]\n",
      "NSG building progress: [850000/1000000]\n",
      "NSG building progress: [860000/1000000]\n",
      "NSG building progress: [870000/1000000]\n",
      "NSG building progress: [880000/1000000]\n",
      "NSG building progress: [890000/1000000]\n",
      "NSG building progress: [900000/1000000]\n",
      "NSG building progress: [910000/1000000]\n",
      "NSG building progress: [920000/1000000]\n",
      "NSG building progress: [930000/1000000]\n",
      "NSG building progress: [940000/1000000]\n",
      "NSG building progress: [950000/1000000]\n",
      "NSG building progress: [960000/1000000]\n",
      "NSG building progress: [970000/1000000]\n",
      "NSG building progress: [980000/1000000]\n",
      "NSG building progress: [990000/1000000]\n",
      "NSG building progress: [1000000/1000000]\n",
      "NSG building cost: 27.09s\n",
      "Degree Statistics: Max = 32, Min = 1, Avg = 21.034350\n"
     ]
    }
   ],
   "source": [
    "index = glass.Index(index_type=\"NSG\", dim=d, metric=metric, R=32, L=200)\n",
    "g = index.build(X_train)\n"
   ]
  },
  {
   "cell_type": "code",
   "execution_count": 4,
   "metadata": {},
   "outputs": [],
   "source": [
    "s = glass.Searcher(graph=g, data=X_train, metric=metric, level=2)\n",
    "s.set_ef(36)\n"
   ]
  },
  {
   "cell_type": "code",
   "execution_count": 5,
   "metadata": {},
   "outputs": [
    {
     "name": "stdout",
     "output_type": "stream",
     "text": [
      "Recall = 91.58%\n"
     ]
    }
   ],
   "source": [
    "from os import cpu_count\n",
    "from time import time\n",
    "num_threads = cpu_count()\n",
    "\n",
    "pred = s.batch_search(query=X_test, k=topk, num_threads=num_threads).reshape(-1, topk)\n",
    "recall = dataset.evaluate(pred, topk)\n",
    "print(f\"Recall = {recall * 100:.2f}%\")\n"
   ]
  },
  {
   "cell_type": "code",
   "execution_count": 6,
   "metadata": {},
   "outputs": [
    {
     "name": "stdout",
     "output_type": "stream",
     "text": [
      "QPS = 670584.36\n",
      "QPS = 692083.69\n",
      "QPS = 695422.88\n",
      "QPS = 692838.22\n",
      "QPS = 696069.17\n",
      "QPS = 693973.10\n",
      "QPS = 696589.38\n",
      "QPS = 694869.87\n",
      "QPS = 694363.71\n",
      "QPS = 693239.01\n"
     ]
    }
   ],
   "source": [
    "s.batch_search(query=X_test, k=topk, num_threads=num_threads)  # warmup\n",
    "for iter in range(10):\n",
    "    t1 = time()\n",
    "    pred = s.batch_search(query=X_test, k=topk, num_threads=num_threads)\n",
    "    t2 = time()\n",
    "    print(f\"QPS = {nq / (t2 - t1):.2f}\")\n"
   ]
  },
  {
   "cell_type": "code",
   "execution_count": 7,
   "metadata": {},
   "outputs": [
    {
     "name": "stdout",
     "output_type": "stream",
     "text": [
      "=============Start optimization=============\n",
      "settint best po = 7, best pl = 1\n",
      "gaining 2.42% performance improvement\n",
      "=============Done optimization=============\n"
     ]
    }
   ],
   "source": [
    "s.optimize()\n"
   ]
  },
  {
   "cell_type": "code",
   "execution_count": 8,
   "metadata": {},
   "outputs": [
    {
     "name": "stdout",
     "output_type": "stream",
     "text": [
      "0.91584\n",
      "QPS = 42312.34212204118\n",
      "0.91584\n",
      "QPS = 41535.45260360087\n",
      "0.91584\n",
      "QPS = 41688.40720876884\n",
      "0.91584\n",
      "QPS = 41218.09612534739\n",
      "0.91584\n",
      "QPS = 41950.12957189765\n",
      "0.91584\n",
      "QPS = 41334.024483263594\n",
      "0.91584\n",
      "QPS = 41325.79788282217\n",
      "0.91584\n",
      "QPS = 41340.01322705692\n",
      "0.91584\n",
      "QPS = 41456.67034352971\n",
      "0.91584\n",
      "QPS = 42736.137234803486\n"
     ]
    }
   ],
   "source": [
    "s.batch_search(query=X_test, k=topk, num_threads=num_threads)  # warmup\n",
    "for iter in range(10):\n",
    "    t1 = time()\n",
    "    pred = s.batch_search(query=X_test, k=topk,\n",
    "                          num_threads=num_threads).reshape(-1, topk)\n",
    "    recall = dataset.evaluate(pred, topk)\n",
    "    print(recall)\n",
    "    t2 = time()\n",
    "    print(f\"QPS = {nq / (t2 - t1)}\")\n"
   ]
  }
 ],
 "metadata": {
  "kernelspec": {
   "display_name": "hy",
   "language": "python",
   "name": "python3"
  },
  "language_info": {
   "codemirror_mode": {
    "name": "ipython",
    "version": 3
   },
   "file_extension": ".py",
   "mimetype": "text/x-python",
   "name": "python",
   "nbconvert_exporter": "python",
   "pygments_lexer": "ipython3",
   "version": "3.10.12"
  },
  "orig_nbformat": 4
 },
 "nbformat": 4,
 "nbformat_minor": 2
}
